{
 "cells": [
  {
   "cell_type": "markdown",
   "metadata": {},
   "source": [
    "## `address_cleaner`: create consistent addresses that maximize success in geocoding.\n",
    "\n",
    "### What it does:\n",
    "#### Corrections\n",
    "* Consistent city names\n",
    "* Consistent street name abbreviations, specifically type and direction\n",
    "\n",
    "#### Flags\n",
    "* Street names missing\n",
    "* Intersections in place of street addresses\n",
    "* Building numbers equal to 0\n",
    "* Building numbers missing\n",
    "* Building number ranges\n",
    "\n",
    "### What you do:\n",
    "Edit the two lines below as paths to your existing import `.csv` and your desired export `.csv`.\n",
    "\n",
    "### Cautions:\n",
    "* This program assumes you've run your addresses through the parsing scripts (see `parse_nets.ipynb` and `parse_costar.ipynb`), which export `.csvs` in an identical format. Tossing in datasets other than these will almost certainly yield failure.\n",
    "* This program is written to address idiosyncracies of the Southeastern PA region (e.g. \"Street Road\" and city names such as \"Mount Laurel\"). While it can be modified for other locations, its full functionality is not immediately portable."
   ]
  },
  {
   "cell_type": "code",
   "execution_count": 1,
   "metadata": {},
   "outputs": [],
   "source": [
    "import_file = \"parse_costar.csv\"\n",
    "export_file = \"clean_costar.csv\""
   ]
  },
  {
   "cell_type": "markdown",
   "metadata": {},
   "source": [
    "### Should not have to edit anything below here."
   ]
  },
  {
   "cell_type": "code",
   "execution_count": 2,
   "metadata": {},
   "outputs": [],
   "source": [
    "import re, csv, yaml"
   ]
  },
  {
   "cell_type": "code",
   "execution_count": 3,
   "metadata": {},
   "outputs": [],
   "source": [
    "# Initial upload fields\n",
    "ids = []\n",
    "nums = []\n",
    "roads = []\n",
    "cities = []\n",
    "states = []\n",
    "zips = []\n",
    "buildings = []\n",
    "units = []\n",
    "levels = []\n",
    "neighborhoods = []\n",
    "# Fields populated through cleaning\n",
    "zero_start_flag = []\n",
    "no_number_flag = []\n",
    "intersection_flag = []\n",
    "no_name_flag = []\n",
    "hyphen_flag = []\n",
    "\n",
    "# Read .csv\n",
    "with open(import_file) as io:\n",
    "    r = csv.reader(io, delimiter = \",\")\n",
    "    next(r, None) # Ignore column names\n",
    "    for row in r:\n",
    "        row_id = row[0]\n",
    "        row_num = row[1]\n",
    "        row_road = row[2]\n",
    "        row_city = row[3]\n",
    "        row_state = row[5]\n",
    "        row_zip = row[7]\n",
    "        row_building = row[8]\n",
    "        row_unit = row[9]\n",
    "        row_level = row[10]\n",
    "        row_neighborhood = row[13]\n",
    "        ids.append(row_id)\n",
    "        nums.append(row_num)\n",
    "        roads.append(row_road)\n",
    "        cities.append(row_city)\n",
    "        states.append(row_state)\n",
    "        zips.append(row_zip)\n",
    "        buildings.append(row_building)\n",
    "        units.append(row_unit)\n",
    "        levels.append(row_level)\n",
    "        neighborhoods.append(row_neighborhood)"
   ]
  },
  {
   "cell_type": "markdown",
   "metadata": {},
   "source": [
    "### Consistent city names\n",
    "Replace city name abbreviations with full name. So far, the only potential issues with city names have been in Kennett Square and Mount Laurel. Will need to be added to if other inconsistencies are found."
   ]
  },
  {
   "cell_type": "code",
   "execution_count": 4,
   "metadata": {},
   "outputs": [],
   "source": [
    "i = 0\n",
    "while (i < len(cities)):\n",
    "    cities[i] = re.sub(r'\\ssq[\\W]?$', ' square', cities[i], flags = re.IGNORECASE)\n",
    "    cities[i] = re.sub(r'^mt[\\W]?\\s', 'mount ', cities[i], flags = re.IGNORECASE)\n",
    "    i = i + 1"
   ]
  },
  {
   "cell_type": "markdown",
   "metadata": {},
   "source": [
    "### Consistent street name abbreviations\n",
    "Use OpenCage's English-language road abbreviations, [`en.yaml`](https://github.com/OpenCageData/address-formatting/blob/master/conf/abbreviations/en.yaml), to identify these.\n",
    "* Our region has a \"Street Road\" which should not abbreviated to \"st rd\". For this reason, instances of \"Street Road\" are ignored before standardizing abbreviations of \"street\" in the beginning or middle of the street name string.\n",
    "* Because directions (`N, NE...`) can show up anywhere in an address (e.g. \"Northampton\"), expressions only replace individual instances of pre- and post-modifiers separated from other words in the street name by spaces.\n",
    "* To make corrections easier later, here are `regex` commands to identify and sub the following:\n",
    "  * Beginning: `re.sub(r'^north\\s|^n[\\W]\\s', 'n ', 'north 14th street', flags = re.IGNORECASE)`\n",
    "  * Middle: `re.sub(r'^savenue\\s|\\save[\\W]\\s', ' ave ', 'park avenue west', flags = re.IGNORECASE)`\n",
    "  * End: `re.sub(r'\\snorth$|\\sn[\\W]$', ' n', 'lightcap road north', flags = re.IGNORECASE)`\n",
    "* \"Terrace\" sub for middle of string is currently commented out, since there is a \"Terrace Avenue.\" Other street names may require special treatment if they appear often enough."
   ]
  },
  {
   "cell_type": "code",
   "execution_count": 5,
   "metadata": {},
   "outputs": [
    {
     "name": "stdout",
     "output_type": "stream",
     "text": [
      "{'Alley': 'Aly', 'Arcade': 'Arc', 'Avenue': 'Ave', 'Boulevard': 'Blvd', 'Circle': 'Cl', 'Court': 'Ct', 'Crescent': 'Cres', 'Crossroad': 'XRD', 'Drive': 'Dr', 'Esplanade': 'Esp', 'Expressway': 'EXPY', 'Extention': 'Ext', 'Freeway': 'Fwy', 'Grove': 'Gr', 'Highway': 'HWY', 'Mountain': 'Mtn', 'Northeast': 'NE', 'Northwest': 'NW', 'Place': 'Pl', 'Road': 'Rd', 'Southeast': 'SE', 'Southwest': 'SW', 'Square': 'Sq', 'Street': 'St', 'Terrace': 'Tce', 'Throughway': 'TRWY'}\n"
     ]
    }
   ],
   "source": [
    "street_road = re.compile(r'street\\sroad|street\\srd[\\W]?')\n",
    "with open(\"en.yaml\", 'r') as stream:\n",
    "    try:\n",
    "        street_key = yaml.load(stream)\n",
    "        street_key = street_key[\"road\"]\n",
    "        print(street_key)\n",
    "    except yaml.YAMLError as exc:\n",
    "        print(exc)\n",
    "\n",
    "i = 0\n",
    "while (i < len(roads)):\n",
    "    # Pre-type + pre-directional\n",
    "    roads[i] = re.sub(r'^alley\\s|^aly[\\W]\\s', 'aly ', roads[i], flags = re.IGNORECASE)\n",
    "    roads[i] = re.sub(r'^arcade\\s|^arc[\\W]\\s', 'arc ', roads[i], flags = re.IGNORECASE)\n",
    "    roads[i] = re.sub(r'^avenue\\s|^ave[\\W]\\s', 'ave ', roads[i], flags = re.IGNORECASE)\n",
    "    roads[i] = re.sub(r'^boulevard\\s|^blvd[\\W]\\s', 'blvd ', roads[i], flags = re.IGNORECASE)\n",
    "    roads[i] = re.sub(r'^circle\\s|^cl[\\W]\\s', 'cl ', roads[i], flags = re.IGNORECASE)\n",
    "    roads[i] = re.sub(r'^court\\s|^ct[\\W]\\s', 'ct ', roads[i], flags = re.IGNORECASE)\n",
    "    roads[i] = re.sub(r'^crescent\\s|^cres[\\W]\\s', 'cres ', roads[i], flags = re.IGNORECASE)\n",
    "    roads[i] = re.sub(r'^crossroad\\s|^xrd[\\W]\\s', 'xrd ', roads[i], flags = re.IGNORECASE)\n",
    "    roads[i] = re.sub(r'^drive\\s|^dr[\\W]\\s', 'dr ', roads[i], flags = re.IGNORECASE)\n",
    "    roads[i] = re.sub(r'^esplanade\\s|^esp[\\W]\\s', 'esp ', roads[i], flags = re.IGNORECASE)\n",
    "    roads[i] = re.sub(r'^expressway\\s|^expy[\\W]\\s', 'expy ', roads[i], flags = re.IGNORECASE)\n",
    "    roads[i] = re.sub(r'^extension\\s|^ext[\\W]\\s', 'ext ', roads[i], flags = re.IGNORECASE)\n",
    "    roads[i] = re.sub(r'^freeway\\s|^fwy[\\W]\\s', 'fwy ', roads[i], flags = re.IGNORECASE)\n",
    "    roads[i] = re.sub(r'^grove\\s|^gr[\\W]\\s', 'gr ', roads[i], flags = re.IGNORECASE)\n",
    "    roads[i] = re.sub(r'^highway\\s|^hwy[\\W]\\s', 'hwy ', roads[i], flags = re.IGNORECASE)\n",
    "    roads[i] = re.sub(r'^mountain\\s|^mtn[\\W]\\s', 'mtn ', roads[i], flags = re.IGNORECASE)\n",
    "    roads[i] = re.sub(r'^place\\s|^pl[\\W]\\s', 'pl ', roads[i], flags = re.IGNORECASE)\n",
    "    roads[i] = re.sub(r'^road\\s|^rd[\\W]\\s', 'rd ', roads[i], flags = re.IGNORECASE)\n",
    "    roads[i] = re.sub(r'^square\\s|^sq[\\W]\\s', 'sq ', roads[i], flags = re.IGNORECASE)\n",
    "    roads[i] = re.sub(r'^terrace\\s|^tce[\\W]\\s', 'tce ', roads[i], flags = re.IGNORECASE)\n",
    "    roads[i] = re.sub(r'^throughway\\s|^trwy[\\W]\\s', 'trwy ', roads[i], flags = re.IGNORECASE)\n",
    "    roads[i] = re.sub(r'^north\\s|^n[\\W]', 'n ', roads[i], flags = re.IGNORECASE)\n",
    "    roads[i] = re.sub(r'^south\\s|^s[\\W]', 's ', roads[i], flags = re.IGNORECASE)\n",
    "    roads[i] = re.sub(r'^east\\s|^e[\\W]', 'e ', roads[i], flags = re.IGNORECASE)\n",
    "    roads[i] = re.sub(r'^west\\s|^w[\\W]', 'w ', roads[i], flags = re.IGNORECASE)\n",
    "    roads[i] = re.sub(r'^northeast\\s|^ne[\\W]', 'ne ', roads[i], flags = re.IGNORECASE)\n",
    "    roads[i] = re.sub(r'^southeast\\sse|^n[\\W]', 'se ', roads[i], flags = re.IGNORECASE)\n",
    "    roads[i] = re.sub(r'^northwest\\s|^nw[\\W]', 'nw ', roads[i], flags = re.IGNORECASE)\n",
    "    roads[i] = re.sub(r'^southwest\\s|^sw[\\W]', 'sw ', roads[i], flags = re.IGNORECASE)\n",
    "    \n",
    "    # Type in middle of string\n",
    "    roads[i] = re.sub(r'\\salley\\s|\\saly[\\W]\\s', ' aly ', roads[i], flags = re.IGNORECASE)\n",
    "    roads[i] = re.sub(r'\\sarcade\\s|\\sarc[\\W]\\s', ' arc ', roads[i], flags = re.IGNORECASE)\n",
    "    roads[i] = re.sub(r'\\savenue\\s|\\save[\\W]\\s', ' ave ', roads[i], flags = re.IGNORECASE)\n",
    "    roads[i] = re.sub(r'\\sboulevard\\s|\\sblvd[\\W]\\s', ' blvd ', roads[i], flags = re.IGNORECASE)\n",
    "    roads[i] = re.sub(r'\\scircle\\s|\\scl[\\W]\\s', ' cl ', roads[i], flags = re.IGNORECASE)\n",
    "    roads[i] = re.sub(r'\\scourt\\s|\\sct[\\W]\\s', ' ct ', roads[i], flags = re.IGNORECASE)\n",
    "    roads[i] = re.sub(r'\\screscent\\s|\\scres[\\W]\\s', ' cres ', roads[i], flags = re.IGNORECASE)\n",
    "    roads[i] = re.sub(r'\\scrossroad\\s|\\sxrd[\\W]\\s', ' xrd ', roads[i], flags = re.IGNORECASE)\n",
    "    roads[i] = re.sub(r'\\sdrive\\s|\\sdr[\\W]\\s', ' dr ', roads[i], flags = re.IGNORECASE)\n",
    "    roads[i] = re.sub(r'\\sesplanade\\s|\\sesp[\\W]\\s', ' esp ', roads[i], flags = re.IGNORECASE)\n",
    "    roads[i] = re.sub(r'\\sexpressway\\s|\\sexpy[\\W]\\s', ' expy ', roads[i], flags = re.IGNORECASE)\n",
    "    roads[i] = re.sub(r'\\sextension\\s|\\sext[\\W]\\s', ' ext ', roads[i], flags = re.IGNORECASE)\n",
    "    roads[i] = re.sub(r'\\sfreeway\\s|\\sfwy[\\W]\\s', ' fwy ', roads[i], flags = re.IGNORECASE)\n",
    "    roads[i] = re.sub(r'\\sgrove\\s|\\sgr[\\W]\\s', ' gr ', roads[i], flags = re.IGNORECASE)\n",
    "    roads[i] = re.sub(r'\\shighway\\s|\\shwy[\\W]\\s', ' hwy ', roads[i], flags = re.IGNORECASE)\n",
    "    roads[i] = re.sub(r'\\smountain\\s|\\smtn[\\W]\\s', ' mtn ', roads[i], flags = re.IGNORECASE)\n",
    "    roads[i] = re.sub(r'\\splace\\s|\\spl[\\W]\\s', ' pl ', roads[i], flags = re.IGNORECASE)\n",
    "    roads[i] = re.sub(r'\\sroad\\s|\\srd[\\W]\\s', ' rd ', roads[i], flags = re.IGNORECASE)\n",
    "    roads[i] = re.sub(r'\\ssquare\\s|\\ssq[\\W]\\s', ' sq ', roads[i], flags = re.IGNORECASE)\n",
    "    # roads[i] = re.sub(r'\\sterrace\\s|\\stce[\\W]\\s', ' tce ', roads[i], flags = re.IGNORECASE)\n",
    "    roads[i] = re.sub(r'\\sthroughway\\s|\\strwy[\\W]\\s', ' trwy ', roads[i], flags = re.IGNORECASE)\n",
    "    \n",
    "    # Post-type + post-directional\n",
    "    roads[i] = re.sub(r'\\salley$|\\saly[\\W]$', ' aly', roads[i], flags = re.IGNORECASE)\n",
    "    roads[i] = re.sub(r'\\sarcade$|\\sarc[\\W]$', ' arc', roads[i], flags = re.IGNORECASE)\n",
    "    roads[i] = re.sub(r'\\savenue$|\\save[\\W]$', ' ave', roads[i], flags = re.IGNORECASE)\n",
    "    roads[i] = re.sub(r'\\sboulevard$|\\sblvd[\\W]$', ' blvd', roads[i], flags = re.IGNORECASE)\n",
    "    roads[i] = re.sub(r'\\scircle$|\\scl[\\W]$', ' cl', roads[i], flags = re.IGNORECASE)\n",
    "    roads[i] = re.sub(r'\\scourt$|\\sct[\\W]$', ' ct', roads[i], flags = re.IGNORECASE)\n",
    "    roads[i] = re.sub(r'\\screscent$|\\scres[\\W]$', ' cres', roads[i], flags = re.IGNORECASE)\n",
    "    roads[i] = re.sub(r'\\scrossroad$|\\sxrd[\\W]$', ' xrd', roads[i], flags = re.IGNORECASE)\n",
    "    roads[i] = re.sub(r'\\sdrive$|\\sdr[\\W]$', ' dr', roads[i], flags = re.IGNORECASE)\n",
    "    roads[i] = re.sub(r'\\sesplanade$|\\sesp[\\W]$', ' esp', roads[i], flags = re.IGNORECASE)\n",
    "    roads[i] = re.sub(r'\\sexpressway$|\\sexpy[\\W]$', ' expy', roads[i], flags = re.IGNORECASE)\n",
    "    roads[i] = re.sub(r'\\sextension$|\\sext[\\W]$', ' ext', roads[i], flags = re.IGNORECASE)\n",
    "    roads[i] = re.sub(r'\\sfreeway$|\\sfwy[\\W]$', ' fwy', roads[i], flags = re.IGNORECASE)\n",
    "    roads[i] = re.sub(r'\\sgrove$|\\sgr[\\W]$', ' gr', roads[i], flags = re.IGNORECASE)\n",
    "    roads[i] = re.sub(r'\\shighway$|\\shwy[\\W]$', ' hwy', roads[i], flags = re.IGNORECASE)\n",
    "    roads[i] = re.sub(r'\\smountain$|\\smtn[\\W]$', ' mtn', roads[i], flags = re.IGNORECASE)\n",
    "    roads[i] = re.sub(r'\\splace$|\\spl[\\W]$', ' pl', roads[i], flags = re.IGNORECASE)\n",
    "    roads[i] = re.sub(r'\\sroad$|\\srd[\\W]$', ' rd', roads[i], flags = re.IGNORECASE)\n",
    "    roads[i] = re.sub(r'\\ssquare$|\\ssq[\\W]$', ' sq', roads[i], flags = re.IGNORECASE)\n",
    "    roads[i] = re.sub(r'\\sstreet$|\\sst[\\W]$', ' st', roads[i], flags = re.IGNORECASE)\n",
    "    roads[i] = re.sub(r'\\sterrace$|\\stce[\\W]$', ' tce', roads[i], flags = re.IGNORECASE)\n",
    "    roads[i] = re.sub(r'\\sthroughway$|\\strwy[\\W]$', ' trwy', roads[i], flags = re.IGNORECASE)\n",
    "    roads[i] = re.sub(r'\\snorth$|\\sn[\\W]$', ' n', roads[i], flags = re.IGNORECASE)\n",
    "    roads[i] = re.sub(r'\\ssouth$|\\ss[\\W]$', ' s', roads[i], flags = re.IGNORECASE)\n",
    "    roads[i] = re.sub(r'\\seast$|\\se[\\W]$', ' e', roads[i], flags = re.IGNORECASE)\n",
    "    roads[i] = re.sub(r'\\swest$|\\sw[\\W]$', ' w', roads[i], flags = re.IGNORECASE)\n",
    "    roads[i] = re.sub(r'\\snortheast$|\\sne[\\W]$', ' ne', roads[i], flags = re.IGNORECASE)\n",
    "    roads[i] = re.sub(r'\\ssoutheast$|\\sse[\\W]$', ' se', roads[i], flags = re.IGNORECASE)\n",
    "    roads[i] = re.sub(r'\\snorthwest$|\\snw[\\W]$', ' nw', roads[i], flags = re.IGNORECASE)\n",
    "    roads[i] = re.sub(r'\\ssouthwest$|\\ssw[\\W]$', ' sw', roads[i], flags = re.IGNORECASE)\n",
    "    \n",
    "    if bool(street_road.search(str(roads[i]))) == False:\n",
    "        roads[i] = re.sub(r'^street\\s|^st[\\W]\\s', 'st ', roads[i], flags = re.IGNORECASE)\n",
    "        roads[i] = re.sub(r'\\sstreet\\s|\\sst[\\W]\\s', ' st ', roads[i], flags = re.IGNORECASE)\n",
    "    \n",
    "    i = i + 1"
   ]
  },
  {
   "cell_type": "markdown",
   "metadata": {},
   "source": [
    "### Street names missing\n",
    "Flag addresses with no street name. List `no_name_flag` is a Boolean flag indicating missing street names."
   ]
  },
  {
   "cell_type": "code",
   "execution_count": 6,
   "metadata": {},
   "outputs": [],
   "source": [
    "no_start = re.compile(r'^$')\n",
    "i = 0\n",
    "while (i < len(nums)):\n",
    "    no_name_item = bool(no_start.search(str(roads[i])))\n",
    "    no_name_item = no_name_item * 1\n",
    "    no_name_flag.append(no_name_item)\n",
    "    i = i + 1"
   ]
  },
  {
   "cell_type": "markdown",
   "metadata": {},
   "source": [
    "### Intersections in place of street addresses\n",
    "Flag for manual correction. List `intersection_flag` is a Boolean flag indicating if the street name contains `@`, `&`, or `and`."
   ]
  },
  {
   "cell_type": "code",
   "execution_count": 7,
   "metadata": {},
   "outputs": [],
   "source": [
    "intersection = re.compile(r'\\sand\\s|\\s&\\s|\\s@\\s')\n",
    "i = 0\n",
    "while (i < len(roads)):\n",
    "    intersection_item = bool(intersection.search(str(roads[i])))\n",
    "    intersection_item = intersection_item * 1\n",
    "    intersection_flag.append(intersection_item)\n",
    "    i = i + 1"
   ]
  },
  {
   "cell_type": "markdown",
   "metadata": {},
   "source": [
    "### Building numbers equal to 0\n",
    "Eliminate leading zeroes. Function `num_test` converts to numeric when possible and leaves as string when not. List `zero_start_flag` is a Boolean flag indicating if building number equals zero. This may export as `True` and `False`: in this case, edits need to be made as the variable is created."
   ]
  },
  {
   "cell_type": "code",
   "execution_count": 8,
   "metadata": {},
   "outputs": [],
   "source": [
    "def num_test(s):\n",
    "    try:\n",
    "        return int(s)\n",
    "    except ValueError:\n",
    "        return str(s)\n",
    "i = 0\n",
    "while (i < len(nums)):\n",
    "    nums[i] = num_test(nums[i])\n",
    "    i = i + 1\n",
    "zero_start = re.compile(r'^[0]')\n",
    "i = 0\n",
    "while (i < len(nums)):\n",
    "    zero_start_item = bool(zero_start.search(str(nums[i])))\n",
    "    zero_start_item = zero_start_item * 1\n",
    "    zero_start_flag.append(zero_start_item)\n",
    "    i = i + 1"
   ]
  },
  {
   "cell_type": "markdown",
   "metadata": {},
   "source": [
    "### Building numbers missing\n",
    "Flag addresses with no building number. List `no_number_flag` is a Boolean flag indicating if the building has no number."
   ]
  },
  {
   "cell_type": "code",
   "execution_count": 9,
   "metadata": {},
   "outputs": [],
   "source": [
    "no_start = re.compile(r'^$')\n",
    "i = 0\n",
    "while (i < len(nums)):\n",
    "    no_number_item = bool(no_start.search(str(nums[i])))\n",
    "    no_number_item = no_number_item * 1\n",
    "    no_number_flag.append(no_number_item)\n",
    "    i = i + 1"
   ]
  },
  {
   "cell_type": "markdown",
   "metadata": {},
   "source": [
    "### Building number ranges\n",
    "Flag addresses with hyphens in the street number. List `hyphen_flag` is a Boolean flag indicating the presence of hyphens."
   ]
  },
  {
   "cell_type": "code",
   "execution_count": 10,
   "metadata": {},
   "outputs": [],
   "source": [
    "hyphen = re.compile(r'-')\n",
    "i = 0\n",
    "while (i < len(nums)):\n",
    "    hyphen_item = bool(hyphen.search(str(nums[i])))\n",
    "    hyphen_item = hyphen_item * 1\n",
    "    hyphen_flag.append(hyphen_item)\n",
    "    i = i + 1"
   ]
  },
  {
   "cell_type": "markdown",
   "metadata": {},
   "source": [
    "### Export"
   ]
  },
  {
   "cell_type": "code",
   "execution_count": 11,
   "metadata": {},
   "outputs": [],
   "source": [
    "l = [ids, nums, roads, cities, states, zips, buildings, units, levels, neighborhoods,\n",
    "     zero_start_flag, no_number_flag, intersection_flag, no_name_flag, hyphen_flag]\n",
    "reconstitute = zip(*l)\n",
    "\n",
    "with open(export_file, \"w\", newline=\"\") as io:\n",
    "    writer = csv.writer(io, dialect = \"excel\")\n",
    "    writer.writerow([\"id\", \"house_number\", \"road\", \"city\", \"state\", \"zip\",\n",
    "                     \"building\", \"unit\", \"level\", \"neighborhood\", \"zero_number_flag\",\n",
    "                     \"no_number_flag\", \"intersection_flag\", \"no_name_flag\", \"hyphen_flag\"])\n",
    "    writer.writerows(reconstitute)\n",
    "io.close()"
   ]
  }
 ],
 "metadata": {
  "kernelspec": {
   "display_name": "Python 3",
   "language": "python",
   "name": "python3"
  },
  "language_info": {
   "codemirror_mode": {
    "name": "ipython",
    "version": 3
   },
   "file_extension": ".py",
   "mimetype": "text/x-python",
   "name": "python",
   "nbconvert_exporter": "python",
   "pygments_lexer": "ipython3",
   "version": "3.6.4"
  }
 },
 "nbformat": 4,
 "nbformat_minor": 2
}
